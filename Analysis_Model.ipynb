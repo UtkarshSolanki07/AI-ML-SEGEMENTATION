{
 "cells": [
  {
   "cell_type": "code",
   "execution_count": null,
   "id": "af15b2c1",
   "metadata": {},
   "outputs": [
    {
     "ename": "",
     "evalue": "",
     "output_type": "error",
     "traceback": [
      "\u001b[1;31mRunning cells with '.venv-1 (3.13.8) (Python 3.13.8)' requires the ipykernel package.\n",
      "\u001b[1;31mInstall 'ipykernel' into the Python environment. \n",
      "\u001b[1;31mCommand: '\"c:/Users/DELL/Desktop/AI ML SEGEMENTATION/.venv-1/Scripts/python.exe\" -m pip install ipykernel -U --force-reinstall'"
     ]
    }
   ],
   "source": [
    "import pandas as pd\n",
    "import numpy as np"
   ]
  },
  {
   "cell_type": "code",
   "execution_count": null,
   "id": "35fe6233",
   "metadata": {},
   "outputs": [],
   "source": [
    "import matplotlib.pyplot as plt\n",
    "import seaborn as sns"
   ]
  },
  {
   "cell_type": "code",
   "execution_count": null,
   "id": "0cccea99",
   "metadata": {},
   "outputs": [],
   "source": [
    "#Load the dataset\n",
    "df=pd.read_csv(\"customer_segmentation.csv\")"
   ]
  },
  {
   "cell_type": "code",
   "execution_count": null,
   "id": "faccee31",
   "metadata": {},
   "outputs": [],
   "source": [
    "#Display the first few rows of the dataset\n",
    "df.head()"
   ]
  },
  {
   "cell_type": "code",
   "execution_count": null,
   "id": "f51336d1",
   "metadata": {},
   "outputs": [],
   "source": [
    "df.columns"
   ]
  },
  {
   "cell_type": "code",
   "execution_count": null,
   "id": "501cb611",
   "metadata": {},
   "outputs": [],
   "source": [
    "df.shape"
   ]
  },
  {
   "cell_type": "code",
   "execution_count": null,
   "id": "69fece2a",
   "metadata": {},
   "outputs": [],
   "source": [
    "df.info()"
   ]
  },
  {
   "cell_type": "code",
   "execution_count": null,
   "id": "26a4f12d",
   "metadata": {},
   "outputs": [],
   "source": [
    "df.isna().sum()"
   ]
  },
  {
   "cell_type": "code",
   "execution_count": null,
   "id": "f22b7a3a",
   "metadata": {},
   "outputs": [],
   "source": [
    "df.dropna(inplace=True)"
   ]
  },
  {
   "cell_type": "code",
   "execution_count": null,
   "id": "b1ddf13e",
   "metadata": {},
   "outputs": [],
   "source": [
    "df.isna().sum().sum()"
   ]
  },
  {
   "cell_type": "code",
   "execution_count": null,
   "id": "a1b9203f",
   "metadata": {},
   "outputs": [],
   "source": [
    "df.describe()"
   ]
  },
  {
   "cell_type": "code",
   "execution_count": null,
   "id": "fa66f1a4",
   "metadata": {},
   "outputs": [],
   "source": [
    "df[\"Education\"].value_counts()"
   ]
  },
  {
   "cell_type": "code",
   "execution_count": null,
   "id": "4650d61e",
   "metadata": {},
   "outputs": [],
   "source": [
    "df[\"Marital_Status\"].value_counts()"
   ]
  },
  {
   "cell_type": "code",
   "execution_count": null,
   "id": "7fa55de7",
   "metadata": {},
   "outputs": [],
   "source": [
    "df[\"Dt_Customer\"]=pd.to_datetime(df[\"Dt_Customer\"],dayfirst=True)"
   ]
  },
  {
   "cell_type": "code",
   "execution_count": null,
   "id": "dbaa257b",
   "metadata": {},
   "outputs": [],
   "source": [
    "df.info()"
   ]
  },
  {
   "cell_type": "code",
   "execution_count": null,
   "id": "e4230351",
   "metadata": {},
   "outputs": [],
   "source": [
    "df[\"Age\"]=2025-df[\"Year_Birth\"]"
   ]
  },
  {
   "cell_type": "code",
   "execution_count": null,
   "id": "db59b37a",
   "metadata": {},
   "outputs": [],
   "source": [
    "df[\"Age\"]"
   ]
  },
  {
   "cell_type": "code",
   "execution_count": null,
   "id": "b2e6f994",
   "metadata": {},
   "outputs": [],
   "source": [
    "df[\"Total_Children\"]=df[\"Kidhome\"]+df[\"Teenhome\"]"
   ]
  },
  {
   "cell_type": "code",
   "execution_count": null,
   "id": "67d00d6e",
   "metadata": {},
   "outputs": [],
   "source": [
    "df[\"Total_Children\"]"
   ]
  },
  {
   "cell_type": "code",
   "execution_count": null,
   "id": "45c9bb3b",
   "metadata": {},
   "outputs": [],
   "source": [
    "spend_cols=['MntWines', 'MntFruits', 'MntMeatProducts', 'MntFishProducts', 'MntSweetProducts', 'MntGoldProds']"
   ]
  },
  {
   "cell_type": "code",
   "execution_count": null,
   "id": "76254735",
   "metadata": {},
   "outputs": [],
   "source": [
    "df[\"Total_Spending\"]=df[spend_cols].sum(axis=1)"
   ]
  },
  {
   "cell_type": "code",
   "execution_count": null,
   "id": "e3ced79e",
   "metadata": {},
   "outputs": [],
   "source": [
    "df[\"Total_Spending\"]"
   ]
  },
  {
   "cell_type": "code",
   "execution_count": null,
   "id": "d89dbb70",
   "metadata": {},
   "outputs": [],
   "source": [
    "df[\"Customer_Since\"]=(pd.Timestamp(\"today\") - df[\"Dt_Customer\"]).dt.days"
   ]
  },
  {
   "cell_type": "code",
   "execution_count": null,
   "id": "a934ffd2",
   "metadata": {},
   "outputs": [],
   "source": [
    "df[\"Customer_Since\"]"
   ]
  },
  {
   "cell_type": "code",
   "execution_count": null,
   "id": "49e3c965",
   "metadata": {},
   "outputs": [],
   "source": [
    "sns.histplot(df[\"Age\"],bins=30,kde=True)\n",
    "plt.title(\"Age Distribution\")\n",
    "plt.show()"
   ]
  },
  {
   "cell_type": "code",
   "execution_count": null,
   "id": "3b89fcea",
   "metadata": {},
   "outputs": [],
   "source": [
    "sns.histplot(df[\"Income\"],bins=30,kde=True)\n",
    "plt.title(\"Income Distribution\")\n",
    "plt.show()"
   ]
  },
  {
   "cell_type": "code",
   "execution_count": null,
   "id": "965f6176",
   "metadata": {},
   "outputs": [],
   "source": [
    "sns.histplot(df[\"Total_Spending\"],bins=30,kde=True)\n",
    "plt.title(\"Total Spending Distribution\")\n",
    "plt.show()"
   ]
  },
  {
   "cell_type": "code",
   "execution_count": null,
   "id": "9da25c45",
   "metadata": {},
   "outputs": [],
   "source": [
    "sns.boxplot(x=\"Education\",y=\"Income\",data=df)\n",
    "plt.xticks(rotation=45)\n",
    "plt.title(\"Income by Education Level\")\n",
    "plt.show()"
   ]
  },
  {
   "cell_type": "code",
   "execution_count": null,
   "id": "caecb232",
   "metadata": {},
   "outputs": [],
   "source": [
    "sns.boxplot(x=\"Marital_Status\",y=\"Total_Spending\",data=df)\n",
    "plt.xticks(rotation=45)\n",
    "plt.title(\"Total Spending by Marital Status\")\n",
    "plt.show()"
   ]
  },
  {
   "cell_type": "code",
   "execution_count": null,
   "id": "4e54ac2b",
   "metadata": {},
   "outputs": [],
   "source": [
    "df.columns"
   ]
  },
  {
   "cell_type": "code",
   "execution_count": null,
   "id": "81319082",
   "metadata": {},
   "outputs": [],
   "source": [
    "corr=df[[\"Income\",\"Age\",\"Recency\",\"Total_Spending\",\"NumWebPurchases\",\"NumStorePurchases\"]].corr()"
   ]
  },
  {
   "cell_type": "code",
   "execution_count": null,
   "id": "f4bacdd5",
   "metadata": {},
   "outputs": [],
   "source": [
    "corr"
   ]
  },
  {
   "cell_type": "code",
   "execution_count": null,
   "id": "68f170cc",
   "metadata": {},
   "outputs": [],
   "source": [
    "sns.heatmap(corr,annot=True,cmap=\"coolwarm\")\n",
    "plt.title(\"Correlation Matrix\")\n",
    "plt.show()"
   ]
  },
  {
   "cell_type": "code",
   "execution_count": null,
   "id": "bfa89ec2",
   "metadata": {},
   "outputs": [],
   "source": [
    "pivot_income= df.pivot_table(index=\"Education\",values=\"Income\",columns=\"Marital_Status\",aggfunc=\"mean\")"
   ]
  },
  {
   "cell_type": "code",
   "execution_count": null,
   "id": "2b989463",
   "metadata": {},
   "outputs": [],
   "source": [
    "pivot_income"
   ]
  },
  {
   "cell_type": "code",
   "execution_count": null,
   "id": "aeb855b3",
   "metadata": {},
   "outputs": [],
   "source": [
    "sns.heatmap(pivot_income,annot=True,fmt=\".0f\",cmap=\"YlGnBu\")\n",
    "plt.title(\"Average Income by Education and Marital Status\")\n",
    "plt.show()"
   ]
  },
  {
   "cell_type": "code",
   "execution_count": null,
   "id": "32476f7b",
   "metadata": {},
   "outputs": [],
   "source": [
    "group1=df.groupby(\"Education\")[\"Total_Spending\"].mean().sort_values(ascending=False)"
   ]
  },
  {
   "cell_type": "code",
   "execution_count": null,
   "id": "bb1d4880",
   "metadata": {},
   "outputs": [],
   "source": [
    "group1"
   ]
  },
  {
   "cell_type": "code",
   "execution_count": null,
   "id": "b3fa196f",
   "metadata": {},
   "outputs": [],
   "source": [
    "group1.plot(kind=\"bar\",color=\"skyblue\")\n",
    "plt.title(\"Average Total Spending by Education Level\")\n",
    "plt.ylabel(\"Average Total Spending\")\n",
    "plt.xlabel(\"Education Level\")\n",
    "plt.xticks(rotation=45)\n",
    "plt.show()"
   ]
  },
  {
   "cell_type": "code",
   "execution_count": null,
   "id": "18e2e62c",
   "metadata": {},
   "outputs": [],
   "source": [
    "df[\"AcceptedAny\"]=df[[\"AcceptedCmp1\",\"AcceptedCmp2\",\"AcceptedCmp3\",\"AcceptedCmp4\",\"AcceptedCmp5\",\"Response\"]].sum(axis=1)"
   ]
  },
  {
   "cell_type": "code",
   "execution_count": null,
   "id": "3390cfb0",
   "metadata": {},
   "outputs": [],
   "source": [
    "df[\"AcceptedAny\"].unique()"
   ]
  },
  {
   "cell_type": "code",
   "execution_count": null,
   "id": "47ce716f",
   "metadata": {},
   "outputs": [],
   "source": [
    "df[\"AcceptedAny\"]=df[\"AcceptedAny\"].apply(lambda x: 1 if x>0 else 0)"
   ]
  },
  {
   "cell_type": "code",
   "execution_count": null,
   "id": "df6458b3",
   "metadata": {},
   "outputs": [],
   "source": [
    "df[\"AcceptedAny\"].unique()"
   ]
  },
  {
   "cell_type": "code",
   "execution_count": null,
   "id": "de5aa183",
   "metadata": {},
   "outputs": [],
   "source": [
    "group2=df.groupby(\"Marital_Status\")[\"AcceptedAny\"].mean().sort_values(ascending=False)"
   ]
  },
  {
   "cell_type": "code",
   "execution_count": null,
   "id": "fb82f28f",
   "metadata": {},
   "outputs": [],
   "source": [
    "group2"
   ]
  },
  {
   "cell_type": "code",
   "execution_count": null,
   "id": "18b9f188",
   "metadata": {},
   "outputs": [],
   "source": [
    "group2.plot(kind=\"bar\",color=\"lightgreen\")\n",
    "plt.title(\"Proportion of Customers Accepting Any Campaign by Marital Status\")\n",
    "plt.ylabel(\"Proportion Accepting Any Campaign\")\n",
    "plt.xlabel(\"Marital Status\")\n",
    "plt.xticks(rotation=45)\n",
    "plt.show()"
   ]
  },
  {
   "cell_type": "code",
   "execution_count": null,
   "id": "b330448a",
   "metadata": {},
   "outputs": [],
   "source": [
    "bins=[10,30,40,50,60,70,90]"
   ]
  },
  {
   "cell_type": "code",
   "execution_count": null,
   "id": "79632891",
   "metadata": {},
   "outputs": [],
   "source": [
    "labels=[\"18-29\",\"30-39\",\"40-49\",\"50-59\",\"60-69\",\"70+\"]"
   ]
  },
  {
   "cell_type": "code",
   "execution_count": null,
   "id": "823a54b9",
   "metadata": {},
   "outputs": [],
   "source": [
    "df[\"AgeGroup\"]=pd.cut(df[\"Age\"],bins=bins,labels=labels)"
   ]
  },
  {
   "cell_type": "code",
   "execution_count": null,
   "id": "8b7b5d81",
   "metadata": {},
   "outputs": [],
   "source": [
    "df[\"AgeGroup\"]"
   ]
  },
  {
   "cell_type": "code",
   "execution_count": null,
   "id": "67873352",
   "metadata": {},
   "outputs": [],
   "source": [
    "group3=df.groupby(\"AgeGroup\")[\"Income\"].mean()"
   ]
  },
  {
   "cell_type": "code",
   "execution_count": null,
   "id": "0ff63c3d",
   "metadata": {},
   "outputs": [],
   "source": [
    "group3"
   ]
  },
  {
   "cell_type": "code",
   "execution_count": null,
   "id": "e3ca3d04",
   "metadata": {},
   "outputs": [],
   "source": [
    "group3.plot(kind=\"barh\",color=\"coral\")\n",
    "plt.title(\"Average Income by Age Group\")\n",
    "plt.ylabel(\"Average Income\")\n",
    "plt.xlabel(\"Age Group\")\n",
    "plt.xticks(rotation=45)\n",
    "plt.show()"
   ]
  },
  {
   "cell_type": "code",
   "execution_count": null,
   "id": "be23c940",
   "metadata": {},
   "outputs": [],
   "source": [
    "df.head()"
   ]
  },
  {
   "cell_type": "code",
   "execution_count": null,
   "id": "93541ccc",
   "metadata": {},
   "outputs": [],
   "source": [
    "df.columns"
   ]
  },
  {
   "cell_type": "code",
   "execution_count": null,
   "id": "765afa30",
   "metadata": {},
   "outputs": [],
   "source": [
    "features=[\"Age\",\"Income\",\"Total_Spending\",\"NumWebPurchases\",\"NumStorePurchases\",\"NumWebVisitsMonth\",\"Recency\"]"
   ]
  },
  {
   "cell_type": "code",
   "execution_count": null,
   "id": "955338e9",
   "metadata": {},
   "outputs": [],
   "source": [
    "X=df[features].copy()"
   ]
  },
  {
   "cell_type": "code",
   "execution_count": null,
   "id": "0e6ed735",
   "metadata": {},
   "outputs": [],
   "source": [
    "X"
   ]
  },
  {
   "cell_type": "code",
   "execution_count": null,
   "id": "4d8cdf71",
   "metadata": {},
   "outputs": [],
   "source": [
    "from sklearn.preprocessing import StandardScaler\n",
    "scaler=StandardScaler()\n"
   ]
  },
  {
   "cell_type": "code",
   "execution_count": null,
   "id": "03d874ba",
   "metadata": {},
   "outputs": [],
   "source": [
    "X_scaled=scaler.fit_transform(X)"
   ]
  },
  {
   "cell_type": "code",
   "execution_count": null,
   "id": "e42561fa",
   "metadata": {},
   "outputs": [],
   "source": [
    "X_scaled"
   ]
  },
  {
   "cell_type": "code",
   "execution_count": null,
   "id": "ea94a940",
   "metadata": {},
   "outputs": [],
   "source": [
    "from sklearn.cluster import KMeans"
   ]
  },
  {
   "cell_type": "code",
   "execution_count": null,
   "id": "ec81079a",
   "metadata": {},
   "outputs": [],
   "source": [
    "wcss=[]"
   ]
  },
  {
   "cell_type": "code",
   "execution_count": null,
   "id": "23cf45fb",
   "metadata": {},
   "outputs": [],
   "source": [
    "for i in range(2,10):\n",
    "    kmeans=KMeans(n_clusters=i)\n",
    "    kmeans.fit(X_scaled)\n",
    "    wcss.append(kmeans.inertia_)"
   ]
  },
  {
   "cell_type": "code",
   "execution_count": null,
   "id": "5f31df0d",
   "metadata": {},
   "outputs": [],
   "source": [
    "wcss"
   ]
  },
  {
   "cell_type": "code",
   "execution_count": null,
   "id": "44ac1580",
   "metadata": {},
   "outputs": [],
   "source": [
    "plt.plot(range(2,10),wcss,marker='o')\n",
    "plt.title(\"Elbow Method for Optimal k\")\n",
    "plt.xlabel(\"Number of clusters (k)\")\n",
    "plt.ylabel(\"WCSS\")\n",
    "plt.show()"
   ]
  },
  {
   "cell_type": "code",
   "execution_count": null,
   "id": "3451d640",
   "metadata": {},
   "outputs": [],
   "source": [
    "kmeans=KMeans(n_clusters=6)\n",
    "df[\"Clusters\"]=kmeans.fit_predict(X_scaled)\n"
   ]
  },
  {
   "cell_type": "code",
   "execution_count": null,
   "id": "bf12251b",
   "metadata": {},
   "outputs": [],
   "source": [
    "df.head()"
   ]
  },
  {
   "cell_type": "code",
   "execution_count": null,
   "id": "d55d6695",
   "metadata": {},
   "outputs": [],
   "source": [
    "clusters_summary=df.groupby(\"Clusters\")[features].mean()"
   ]
  },
  {
   "cell_type": "code",
   "execution_count": null,
   "id": "e471d20e",
   "metadata": {},
   "outputs": [],
   "source": [
    "clusters_summary"
   ]
  },
  {
   "cell_type": "code",
   "execution_count": null,
   "id": "a4a1a3c1",
   "metadata": {},
   "outputs": [],
   "source": [
    "df[\"Clusters\"].value_counts()"
   ]
  },
  {
   "cell_type": "code",
   "execution_count": null,
   "id": "cbcb5a10",
   "metadata": {},
   "outputs": [],
   "source": [
    "from sklearn.decomposition import PCA\n",
    "pca=PCA(n_components=2)\n",
    "pca_data=pca.fit_transform(X_scaled)\n",
    "df[\"PCA1\"],df[\"PCA2\"]=pca_data[:,0],pca_data[:,1]"
   ]
  },
  {
   "cell_type": "code",
   "execution_count": null,
   "id": "0ec924bd",
   "metadata": {},
   "outputs": [],
   "source": [
    "pca_data"
   ]
  },
  {
   "cell_type": "code",
   "execution_count": null,
   "id": "4f612341",
   "metadata": {},
   "outputs": [],
   "source": [
    "sns.scatterplot(x=\"PCA1\",y=\"PCA2\",hue=\"Clusters\",data=df,palette=\"Set1\")\n",
    "plt.title(\"Customer Segments based on PCA\")\n",
    "plt.show()"
   ]
  },
  {
   "cell_type": "code",
   "execution_count": null,
   "id": "17219cc1",
   "metadata": {},
   "outputs": [],
   "source": [
    "clusters_summary"
   ]
  },
  {
   "cell_type": "code",
   "execution_count": null,
   "id": "8408b1a9",
   "metadata": {},
   "outputs": [],
   "source": [
    "import joblib\n",
    "joblib.dump(kmeans,\"kmeans_model.pkl\")\n",
    "joblib.dump(scaler,\"scaler.pkl\")"
   ]
  },
  {
   "cell_type": "code",
   "execution_count": null,
   "id": "626d3a60",
   "metadata": {},
   "outputs": [],
   "source": []
  }
 ],
 "metadata": {
  "kernelspec": {
   "display_name": ".venv-1 (3.13.8)",
   "language": "python",
   "name": "python3"
  },
  "language_info": {
   "codemirror_mode": {
    "name": "ipython",
    "version": 3
   },
   "file_extension": ".py",
   "mimetype": "text/x-python",
   "name": "python",
   "nbconvert_exporter": "python",
   "pygments_lexer": "ipython3",
   "version": "3.13.8"
  }
 },
 "nbformat": 4,
 "nbformat_minor": 5
}
